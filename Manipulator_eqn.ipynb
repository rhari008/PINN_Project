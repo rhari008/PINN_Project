{
 "cells": [
  {
   "cell_type": "code",
   "execution_count": 1,
   "id": "c8fe4819",
   "metadata": {},
   "outputs": [],
   "source": [
    "from typing import Callable\n",
    "\n",
    "import matplotlib.pyplot as plt\n",
    "import torch\n",
    "from scipy.integrate import solve_ivp\n",
    "from torch import nn\n",
    "import numpy as np"
   ]
  },
  {
   "cell_type": "markdown",
   "id": "6ed78ff5",
   "metadata": {},
   "source": [
    "## Training Basic Equation (1st Order)"
   ]
  },
  {
   "attachments": {
    "Eq1-2.PNG": {
     "image/png": "[encoded data removed]"
    }
   },
   "cell_type": "markdown",
   "id": "67f60dfc",
   "metadata": {},
   "source": [
    "![Eq1-2.PNG](attachment:Eq1-2.PNG)"
   ]
  },
  {
   "cell_type": "code",
   "execution_count": 2,
   "id": "4a197b4a",
   "metadata": {},
   "outputs": [],
   "source": [
    "R = 1.0\n",
    "F0 = 1.0\n",
    "\n",
    "class NNApproximator(nn.Module):\n",
    "    def __init__(self, num_hidden: int, dim_hidden: int, act=nn.Tanh()):\n",
    "\n",
    "        super().__init__()\n",
    "\n",
    "        self.layer_in = nn.Linear(1, dim_hidden)\n",
    "        self.layer_out = nn.Linear(dim_hidden, 1)\n",
    "\n",
    "        num_middle = num_hidden - 1\n",
    "        self.middle_layers = nn.ModuleList(\n",
    "            [nn.Linear(dim_hidden, dim_hidden) for _ in range(num_middle)]\n",
    "        )\n",
    "        self.act = act\n",
    "\n",
    "    def forward(self, x):\n",
    "        out = self.act(self.layer_in(x))\n",
    "        for layer in self.middle_layers:\n",
    "            out = self.act(layer(out))\n",
    "        return self.layer_out(out)\n",
    "\n",
    "\n",
    "def f(nn: NNApproximator, x: torch.Tensor) -> torch.Tensor:\n",
    "    return nn(x)\n",
    "\n",
    "\n",
    "def df(nn: NNApproximator, x: torch.Tensor = None, order: int = 1) -> torch.Tensor:\n",
    "    df_value = f(nn, x)\n",
    "    for _ in range(order):\n",
    "        df_value = torch.autograd.grad(\n",
    "            df_value,\n",
    "            x,\n",
    "            grad_outputs=torch.ones_like(x),\n",
    "            create_graph=True,\n",
    "            retain_graph=True,\n",
    "        )[0]\n",
    "\n",
    "    return df_value\n",
    "\n",
    "\n",
    "def compute_loss(\n",
    "    nn: NNApproximator, x: torch.Tensor = None, verbose: bool = False\n",
    ") -> torch.float:\n",
    "\n",
    "    interior_loss = df(nn, x) - R * x * (1 - x)\n",
    "\n",
    "    boundary = torch.Tensor([0.0])\n",
    "    boundary.requires_grad = True\n",
    "    boundary_loss = f(nn, boundary) - F0\n",
    "    final_loss = interior_loss.pow(2).mean() + boundary_loss ** 2\n",
    "    return final_loss\n",
    "\n",
    "\n",
    "def train_model(\n",
    "    nn: NNApproximator,\n",
    "    loss_fn: Callable,\n",
    "    learning_rate: int = 0.01,\n",
    "    max_epochs: int = 1_000,\n",
    ") -> NNApproximator:\n",
    "\n",
    "    loss_evolution = []\n",
    "\n",
    "    optimizer = torch.optim.SGD(nn.parameters(), lr=learning_rate)\n",
    "    for epoch in range(max_epochs):\n",
    "\n",
    "        try:\n",
    "\n",
    "            loss: torch.Tensor = loss_fn(nn)\n",
    "            optimizer.zero_grad()\n",
    "            loss.backward()\n",
    "            optimizer.step()\n",
    "\n",
    "            if epoch % 1000 == 0:\n",
    "                print(f\"Epoch: {epoch} - Loss: {float(loss):>7f}\")\n",
    "\n",
    "            loss_evolution.append(loss.detach().numpy())\n",
    "\n",
    "        except KeyboardInterrupt:\n",
    "            break\n",
    "\n",
    "    return nn, np.array(loss_evolution)\n",
    "\n",
    "\n",
    "def check_gradient(nn: NNApproximator, x: torch.Tensor = None) -> bool:\n",
    "\n",
    "    eps = 1e-4\n",
    "    dfdx_fd = (f(nn, x + eps) - f(nn, x - eps)) / (2 * eps)\n",
    "    dfdx_sample = df(nn, x, order=1)\n",
    "\n",
    "    return torch.allclose(dfdx_fd.T, dfdx_sample.T, atol=1e-2, rtol=1e-2)\n"
   ]
  },
  {
   "cell_type": "code",
   "execution_count": 3,
   "id": "4aecaf92",
   "metadata": {},
   "outputs": [
    {
     "name": "stdout",
     "output_type": "stream",
     "text": [
      "Epoch: 0 - Loss: 0.973614\n",
      "Epoch: 1000 - Loss: 0.005374\n",
      "Epoch: 2000 - Loss: 0.000354\n",
      "Epoch: 3000 - Loss: 0.000263\n",
      "Epoch: 4000 - Loss: 0.000216\n",
      "Epoch: 5000 - Loss: 0.000187\n",
      "Epoch: 6000 - Loss: 0.000168\n",
      "Epoch: 7000 - Loss: 0.000152\n",
      "Epoch: 8000 - Loss: 0.000140\n",
      "Epoch: 9000 - Loss: 0.000129\n",
      "Epoch: 10000 - Loss: 0.000120\n",
      "Epoch: 11000 - Loss: 0.000112\n",
      "Epoch: 12000 - Loss: 0.000105\n",
      "Epoch: 13000 - Loss: 0.000099\n",
      "Epoch: 14000 - Loss: 0.000093\n",
      "Epoch: 15000 - Loss: 0.000088\n",
      "Epoch: 16000 - Loss: 0.000084\n",
      "Epoch: 17000 - Loss: 0.000080\n",
      "Epoch: 18000 - Loss: 0.000076\n",
      "Epoch: 19000 - Loss: 0.000073\n"
     ]
    },
    {
     "data": {
      "image/png": "[encoded data removed]",
      "text/plain": [
       "<Figure size 432x288 with 1 Axes>"
      ]
     },
     "metadata": {
      "needs_background": "light"
     },
     "output_type": "display_data"
    },
    {
     "data": {
      "image/png": "[encoded data removed]",
      "text/plain": [
       "<Figure size 432x288 with 1 Axes>"
      ]
     },
     "metadata": {
      "needs_background": "light"
     },
     "output_type": "display_data"
    }
   ],
   "source": [
    "if __name__ == \"__main__\":\n",
    "    from functools import partial\n",
    "\n",
    "    domain = [0.0, 1.0]\n",
    "    x = torch.linspace(domain[0], domain[1], steps=10, requires_grad=True)\n",
    "    x = x.reshape(x.shape[0], 1)\n",
    "\n",
    "    nn_approximator = NNApproximator(4, 10)\n",
    "    assert check_gradient(nn_approximator, x)\n",
    "\n",
    "    # f_initial = f(nn_approximator, x)\n",
    "    # ax.plot(x.detach().numpy(), f_initial.detach().numpy(), label=\"Initial NN solution\")\n",
    "\n",
    "    # train the PINN\n",
    "    loss_fn = partial(compute_loss, x=x, verbose=True)\n",
    "    nn_approximator_trained, loss_evolution = train_model(\n",
    "        nn_approximator, loss_fn=loss_fn, learning_rate=0.1, max_epochs=20_000\n",
    "    )\n",
    "\n",
    "    x_eval = torch.linspace(domain[0], domain[1], steps=100).reshape(-1, 1)\n",
    "\n",
    "    # numeric solution\n",
    "    def logistic_eq_fn(x, y):\n",
    "        return R * x * (1 - x)\n",
    "\n",
    "    numeric_solution = solve_ivp(\n",
    "        logistic_eq_fn, domain, [F0], t_eval=x_eval.squeeze().detach().numpy()\n",
    "    )\n",
    "\n",
    "    # plotting\n",
    "    fig, ax = plt.subplots()\n",
    "\n",
    "    f_final_training = f(nn_approximator_trained, x)\n",
    "    f_final = f(nn_approximator_trained, x_eval)\n",
    "\n",
    "    ax.scatter(x.detach().numpy(), f_final_training.detach().numpy(), label=\"Training points\", color=\"red\")\n",
    "    ax.plot(x_eval.detach().numpy(), f_final.detach().numpy(), label=\"NN final solution\")\n",
    "    ax.plot(\n",
    "        x_eval.detach().numpy(),\n",
    "        numeric_solution.y.T,\n",
    "        label=f\"Analytic solution\",\n",
    "        color=\"green\",\n",
    "        alpha=0.75,\n",
    "    )\n",
    "    ax.set(title=\"Logistic equation solved with NNs\", xlabel=\"t\", ylabel=\"f(t)\")\n",
    "    ax.legend()\n",
    "\n",
    "    fig, ax = plt.subplots()\n",
    "    ax.semilogy(loss_evolution)\n",
    "    ax.set(title=\"Loss evolution\", xlabel=\"# epochs\", ylabel=\"Loss\")\n",
    "#     ax.legend()\n",
    "\n",
    "    plt.show()"
   ]
  },
  {
   "cell_type": "markdown",
   "id": "fde99446",
   "metadata": {},
   "source": [
    "#### A first order basic equation was able to be solved using Neural Networks with information from the dynamics equation"
   ]
  },
  {
   "cell_type": "markdown",
   "id": "6a2ba442",
   "metadata": {},
   "source": [
    " "
   ]
  },
  {
   "cell_type": "markdown",
   "id": "b18044c6",
   "metadata": {},
   "source": [
    " "
   ]
  },
  {
   "cell_type": "markdown",
   "id": "656d1f80",
   "metadata": {},
   "source": [
    "## Training Manipulator Equation (2nd Order)"
   ]
  },
  {
   "attachments": {
    "Eq2.PNG": {
     "image/png": "[encoded data removed]"
    }
   },
   "cell_type": "markdown",
   "id": "74b4d26c",
   "metadata": {},
   "source": [
    "![Eq2.PNG](attachment:Eq2.PNG)"
   ]
  },
  {
   "cell_type": "code",
   "execution_count": 4,
   "id": "422679fa",
   "metadata": {},
   "outputs": [],
   "source": [
    "r  = 1     # Center of Mass of the Link in meter\n",
    "m  = 1     # Mass of the Link in Kg\n",
    "g  = 10    # Acceleration due to gravity in meter/sec2\n",
    "I  = 0.5   # Moment of Inertia in Kg.meter2\n",
    "F0 = 0.0   # Initial Value of the function\n",
    "\n",
    "class NNApproximator(nn.Module):\n",
    "    def __init__(self, num_hidden: int, dim_hidden: int, act=nn.Tanh()):\n",
    "\n",
    "        super().__init__()\n",
    "\n",
    "        self.layer_in = nn.Linear(1, dim_hidden)\n",
    "        self.layer_out = nn.Linear(dim_hidden, 1)\n",
    "\n",
    "        num_middle = num_hidden - 1\n",
    "        self.middle_layers = nn.ModuleList(\n",
    "            [nn.Linear(dim_hidden, dim_hidden) for _ in range(num_middle)]\n",
    "        )\n",
    "        self.act = act\n",
    "\n",
    "    def forward(self, x):\n",
    "        out = self.act(self.layer_in(x))\n",
    "        for layer in self.middle_layers:\n",
    "            out = self.act(layer(out))\n",
    "        return self.layer_out(out)\n",
    "\n",
    "\n",
    "def f(nn: NNApproximator, x: torch.Tensor) -> torch.Tensor:\n",
    "    return nn(x)\n",
    "\n",
    "def df(nn: NNApproximator, x: torch.Tensor = None, order: int = 2) -> torch.Tensor:\n",
    "    df_value = f(nn, x)\n",
    "    for _ in range(order):\n",
    "        df_value = torch.autograd.grad(\n",
    "            df_value,\n",
    "            x,\n",
    "            grad_outputs=torch.ones_like(x),\n",
    "            create_graph=True,\n",
    "            retain_graph=True,\n",
    "        )[0]\n",
    "    return df_value\n",
    "\n",
    "def compute_loss(\n",
    "    nn: NNApproximator, x: torch.Tensor = None, verbose: bool = False) -> torch.float:\n",
    "\n",
    "    interior_loss = df(nn, x) + ( m*g*r/(I + m* r**2) ) ## For small theta, cos theta = 1\n",
    "\n",
    "    boundary = torch.Tensor([0.0])\n",
    "    boundary.requires_grad = True\n",
    "    boundary_loss = f(nn, boundary) - F0\n",
    "    final_loss = interior_loss.pow(2).mean() + boundary_loss ** 2\n",
    "    return final_loss\n",
    "\n",
    "def train_model(\n",
    "    nn: NNApproximator,\n",
    "    loss_fn: Callable,\n",
    "    learning_rate: int = 0.01,\n",
    "    max_epochs: int = 1_000,) -> NNApproximator:\n",
    "\n",
    "    loss_evolution = []\n",
    "\n",
    "    optimizer = torch.optim.SGD(nn.parameters(), lr=learning_rate)\n",
    "    \n",
    "    for epoch in range(max_epochs):\n",
    "        try:\n",
    "            loss: torch.Tensor = loss_fn(nn)\n",
    "            optimizer.zero_grad()\n",
    "            loss.backward()\n",
    "            optimizer.step()\n",
    "\n",
    "            if epoch % 1000 == 0:\n",
    "                print(f\"Epoch: {epoch} - Loss: {float(loss):>7f}\")\n",
    "\n",
    "            loss_evolution.append(loss.detach().numpy())\n",
    "\n",
    "        except KeyboardInterrupt:\n",
    "            break\n",
    "    return nn, np.array(loss_evolution)\n",
    "\n",
    "\n",
    "def check_gradient(nn: NNApproximator, x: torch.Tensor = None) -> bool:\n",
    "\n",
    "    eps = 1e-4\n",
    "    dfdx_fd = (f(nn, x + eps) - f(nn, x - eps)) / (2 * eps)\n",
    "    dfdx_sample = df(nn, x, order=2)\n",
    "\n",
    "    return torch.allclose(dfdx_fd.T, dfdx_sample.T, atol=1e-2, rtol=1e-2)\n"
   ]
  },
  {
   "cell_type": "code",
   "execution_count": 5,
   "id": "0eaa5902",
   "metadata": {},
   "outputs": [
    {
     "name": "stdout",
     "output_type": "stream",
     "text": [
      "Epoch: 0 - Loss: 43.988396\n",
      "Epoch: 1000 - Loss:     nan\n",
      "Epoch: 2000 - Loss:     nan\n",
      "Epoch: 3000 - Loss:     nan\n",
      "Epoch: 4000 - Loss:     nan\n",
      "Epoch: 5000 - Loss:     nan\n",
      "Epoch: 6000 - Loss:     nan\n",
      "Epoch: 7000 - Loss:     nan\n",
      "Epoch: 8000 - Loss:     nan\n",
      "Epoch: 9000 - Loss:     nan\n",
      "Epoch: 10000 - Loss:     nan\n",
      "Epoch: 11000 - Loss:     nan\n",
      "Epoch: 12000 - Loss:     nan\n",
      "Epoch: 13000 - Loss:     nan\n",
      "Epoch: 14000 - Loss:     nan\n",
      "Epoch: 15000 - Loss:     nan\n",
      "Epoch: 16000 - Loss:     nan\n",
      "Epoch: 17000 - Loss:     nan\n",
      "Epoch: 18000 - Loss:     nan\n",
      "Epoch: 19000 - Loss:     nan\n"
     ]
    },
    {
     "name": "stderr",
     "output_type": "stream",
     "text": [
      "No artists with labels found to put in legend.  Note that artists whose label start with an underscore are ignored when legend() is called with no argument.\n"
     ]
    },
    {
     "data": {
      "image/png": "[encoded data removed]",
      "text/plain": [
       "<Figure size 432x288 with 1 Axes>"
      ]
     },
     "metadata": {
      "needs_background": "light"
     },
     "output_type": "display_data"
    },
    {
     "data": {
      "image/png": "[encoded data removed]",
      "text/plain": [
       "<Figure size 432x288 with 1 Axes>"
      ]
     },
     "metadata": {
      "needs_background": "light"
     },
     "output_type": "display_data"
    }
   ],
   "source": [
    "if __name__ == \"__main__\":\n",
    "    from functools import partial\n",
    "\n",
    "    domain = [0.0, 1.0]\n",
    "    x = torch.linspace(domain[0], domain[1], steps=10, requires_grad=True)\n",
    "    x = x.reshape(x.shape[0], 1)\n",
    "\n",
    "    nn_approximator = NNApproximator(4, 10)\n",
    "#     assert check_gradient(nn_approximator, x)\n",
    "\n",
    "    # train the PINN\n",
    "    loss_fn = partial(compute_loss, x=x, verbose=True)\n",
    "    nn_approximator_trained, loss_evolution = train_model(\n",
    "        nn_approximator, loss_fn=loss_fn, learning_rate=0.1, max_epochs=20_000\n",
    "    )\n",
    "\n",
    "    x_eval = torch.linspace(domain[0], domain[1], steps=100).reshape(-1, 1)\n",
    "\n",
    "    # numeric solution\n",
    "    def manipulator_eq_fn(x, y):\n",
    "        return ( -m*g*r/(I + m* r**2) )\n",
    "                \n",
    "    numeric_solution = solve_ivp(manipulator_eq_fn, domain, [F0], t_eval=x_eval.squeeze().detach().numpy() )\n",
    "\n",
    "    # plotting\n",
    "    fig, ax = plt.subplots()\n",
    "\n",
    "    f_final_training = f(nn_approximator_trained, x)\n",
    "    f_final = f(nn_approximator_trained, x_eval)\n",
    "\n",
    "    ax.scatter(x.detach().numpy(), f_final_training.detach().numpy(), label=\"Training points\", color=\"red\")\n",
    "    ax.plot(x_eval.detach().numpy(), f_final.detach().numpy(), label=\"NN final solution\")\n",
    "    ax.plot(\n",
    "        x_eval.detach().numpy(),\n",
    "        numeric_solution.y.T,\n",
    "        label=f\"Analytic solution\",\n",
    "        color=\"green\",\n",
    "        alpha=0.75,\n",
    "    )\n",
    "    ax.set(title=\"Manipulator equation solved with NNs\", xlabel=\"t\", ylabel=\"f(t)\")\n",
    "    ax.legend()\n",
    "\n",
    "    fig, ax = plt.subplots()\n",
    "    ax.semilogy(loss_evolution)\n",
    "    ax.set(title=\"Loss evolution\", xlabel=\"# epochs\", ylabel=\"Loss\")\n",
    "    ax.legend()\n",
    "\n",
    "    plt.show()"
   ]
  },
  {
   "cell_type": "code",
   "execution_count": null,
   "id": "cab0acd6",
   "metadata": {},
   "outputs": [],
   "source": []
  }
 ],
 "metadata": {
  "kernelspec": {
   "display_name": "Python 3",
   "language": "python",
   "name": "python3"
  },
  "language_info": {
   "codemirror_mode": {
    "name": "ipython",
    "version": 3
   },
   "file_extension": ".py",
   "mimetype": "text/x-python",
   "name": "python",
   "nbconvert_exporter": "python",
   "pygments_lexer": "ipython3",
   "version": "3.9.13"
  }
 },
 "nbformat": 4,
 "nbformat_minor": 5
}
